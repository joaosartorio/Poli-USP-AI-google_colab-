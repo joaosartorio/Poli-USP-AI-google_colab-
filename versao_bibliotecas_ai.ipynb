{
  "nbformat": 4,
  "nbformat_minor": 0,
  "metadata": {
    "colab": {
      "name": "versao_bibliotecas_ai.ipynb",
      "provenance": [],
      "mount_file_id": "1BnmyIubitfOZtYbssIejR2-7iMOJcW6L",
      "authorship_tag": "ABX9TyODZkXEWWVmWRfK6biQK0O6",
      "include_colab_link": true
    },
    "kernelspec": {
      "name": "python3",
      "display_name": "Python 3"
    }
  },
  "cells": [
    {
      "cell_type": "markdown",
      "metadata": {
        "id": "view-in-github",
        "colab_type": "text"
      },
      "source": [
        "<a href=\"https://colab.research.google.com/github/joaosartorio/Poli-USP-AI-google_colab-/blob/master/versao_bibliotecas_ai.ipynb\" target=\"_parent\"><img src=\"https://colab.research.google.com/assets/colab-badge.svg\" alt=\"Open In Colab\"/></a>"
      ]
    },
    {
      "cell_type": "code",
      "metadata": {
        "id": "WrHiCQ274y6E",
        "colab_type": "code",
        "colab": {
          "base_uri": "https://localhost:8080/",
          "height": 386
        },
        "outputId": "4373fc15-d8a6-49ac-bfca-32e91fce344d"
      },
      "source": [
        "#Imprime versao de Tensorflow, Keras e Keras dentro do Tensorflow\n",
        "#Tambem imprime se GPU esta funcionando, versao de SO, CPU e RAM\n",
        "import tensorflow as tf\n",
        "import keras\n",
        "import sys\n",
        "import cv2\n",
        "import os\n",
        "os.environ['TF_CPP_MIN_LOG_LEVEL']='3'\n",
        "print(sys.version)\n",
        "print(\"Versao de tensorflow:\",tf.__version__)\n",
        "print(\"Versao de Keras independente:\",keras.__version__)\n",
        "print(\"Versao de Keras dentro de tensorflow:\",tf.keras.__version__)\n",
        "print(\"Versao cv2:\",cv2.__version__)\n",
        "print()\n",
        "gpu=tf.test.gpu_device_name()\n",
        "if gpu==\"\":\n",
        " print(\"Computador sem GPU.\")\n",
        "else:\n",
        " print(\"Computador com GPU:\",tf.test.gpu_device_name())\n",
        " from tensorflow.python.client import device_lib\n",
        " devices=device_lib.list_local_devices()\n",
        " print(\"Dispositivos:\",[x.physical_device_desc for x in devices if x.physical_device_desc!=\"\"])\n",
        "print()\n",
        "!lsb_release -a | grep \"Description\" #imprime qual é o sistema operacional\n",
        "!echo\n",
        "!cat /proc/cpuinfo | grep -E \"model name|core\" #especificações de CPU\n",
        "!echo\n",
        "!cat /proc/meminfo | grep \"Mem\" #especificações de RAM"
      ],
      "execution_count": null,
      "outputs": [
        {
          "output_type": "stream",
          "text": [
            "3.6.9 (default, Jul 17 2020, 12:50:27) \n",
            "[GCC 8.4.0]\n",
            "Versao de tensorflow: 2.3.0\n",
            "Versao de Keras independente: 2.4.3\n",
            "Versao de Keras dentro de tensorflow: 2.4.0\n",
            "Versao cv2: 4.1.2\n",
            "\n",
            "Computador sem GPU.\n",
            "\n",
            "No LSB modules are available.\n",
            "Description:\tUbuntu 18.04.3 LTS\n",
            "\n",
            "model name\t: Intel(R) Xeon(R) CPU @ 2.30GHz\n",
            "core id\t\t: 0\n",
            "cpu cores\t: 1\n",
            "model name\t: Intel(R) Xeon(R) CPU @ 2.30GHz\n",
            "core id\t\t: 0\n",
            "cpu cores\t: 1\n",
            "\n",
            "MemTotal:       13333552 kB\n",
            "MemFree:        10670280 kB\n",
            "MemAvailable:   12430708 kB\n"
          ],
          "name": "stdout"
        }
      ]
    }
  ]
}